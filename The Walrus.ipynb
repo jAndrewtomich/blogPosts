{
 "cells": [
  {
   "cell_type": "markdown",
   "id": "33782062",
   "metadata": {
    "slideshow": {
     "slide_type": "slide"
    }
   },
   "source": [
    "<div style=\"width: 100%\">\n",
    "    <img src=\"img/walrusFinalForm.jpg\" style=\"size: cover; opacity: 0.8; border: 2px solid black; border-radius: 1%;\">\n",
    "    <h1 style=\"font-size: 5em; text-align: center; color: black; position: absolute; top: -63px; left: 8; z-index: 1;\"><b>Jupyter and The Walrus</b></h1>\n",
    "</div>"
   ]
  },
  {
   "cell_type": "markdown",
   "id": "4e3f8141",
   "metadata": {
    "slideshow": {
     "slide_type": "skip"
    }
   },
   "source": [
    "<hr style=\"height: 2px;\">"
   ]
  },
  {
   "cell_type": "markdown",
   "id": "7c30b2de",
   "metadata": {
    "slideshow": {
     "slide_type": "slide"
    }
   },
   "source": [
    "<p style=\"font-size: 1.25em;\">Let me preface this with a couple of caveats.</p>\n",
    "    <ol style=\"font-size: 1.25em;\">\n",
    "        <li>I am by no means a Python expert, merely an enthusiastic practitioner.</li>\n",
    "        <br>\n",
    "        <li>The use-cases outlined in this article come from my experience in utilizing Python as a data analysis tool, specifically in a Jupyter Notebook environment on relatively small datasets, and as such may be memory-prohibitive in a different application.</li>\n",
    "    </ol>"
   ]
  },
  {
   "cell_type": "markdown",
   "id": "95bb1f73",
   "metadata": {
    "slideshow": {
     "slide_type": "skip"
    }
   },
   "source": [
    "<hr style=\"height: 2px;\">\n",
    "<hr style=\"height: 2px;\">"
   ]
  },
  {
   "cell_type": "markdown",
   "id": "4c3a94bb",
   "metadata": {
    "slideshow": {
     "slide_type": "slide"
    }
   },
   "source": [
    "<p  style=\"font-size: 1.25em;\">The Assignment Expression operator, commonly referred to as \"'The Walrus Operator\" due to its 'tusks', was introduced in Python 3.8. Specifically, PEP 572 brought us this change. You can read about the intentions and justifications for the feature at <a href=\"https://peps.python.org/pep-0572/\" target=\"_blank\">their site</a>, and I encourage you do so. Nevertheless, the feature was met with some skepticism, even outright disgust, when it was introduced.</p>"
   ]
  },
  {
   "cell_type": "markdown",
   "id": "969f7339",
   "metadata": {
    "slideshow": {
     "slide_type": "slide"
    }
   },
   "source": [
    "<p style=\"font-size: 1.25em;\">::TLDR::</p>\n",
    "<p style=\"font-size: 1.25em;\">When working in a Jupyter Notebook…</p>\n",
    "<p style=\"font-size: 1.25em;\">Working one's way through constructing the figures, even relatively efficiently, is a bit of a chore. If I can change:</p>"
   ]
  },
  {
   "cell_type": "code",
   "execution_count": 1,
   "id": "21902571",
   "metadata": {
    "slideshow": {
     "slide_type": "slide"
    }
   },
   "outputs": [
    {
     "data": {
      "text/plain": [
       "'\\n################\\n################\\n'"
      ]
     },
     "execution_count": 1,
     "metadata": {},
     "output_type": "execute_result"
    }
   ],
   "source": [
    "'''\n",
    "################\n",
    "################\n",
    "'''"
   ]
  },
  {
   "cell_type": "markdown",
   "id": "6919a688",
   "metadata": {
    "slideshow": {
     "slide_type": "slide"
    }
   },
   "source": [
    "<p style=\"font-size: 1.25em;\">Into:</p>"
   ]
  },
  {
   "cell_type": "code",
   "execution_count": 2,
   "id": "6145369d",
   "metadata": {
    "slideshow": {
     "slide_type": "slide"
    }
   },
   "outputs": [
    {
     "data": {
      "text/plain": [
       "\"\\n###### READ IN CSVs ##############\\ndf = (tmp := pd.read_csv('../in/highlightsNew.csv',\\n                         usecols=['Text',\\n                                  'Tag',\\n                                  'Tag - Group',\\n                                  'Note - Role',\\n                                  'Note - Industry',\\n                                  'Note - Participant ID'])\\n     ).drop(tmp.loc[tmp['Note - Participant ID'].str.contains('MKT'), :].index).rename({'Text': 'Evidence',\\n                                                                            'Tag - Group': 'Group',\\n                                                                            'Note - Role': 'Role',\\n                                                                            'Note - Industry': 'Industry',\\n                                                                            'Note - Participant ID': 'Participant'}, axis=1).dropna()\\n\\norgdf = (tmp := pd.read_csv('../in/orgSize.csv')).drop(tmp.loc[tmp['Participant ID'].str.contains('P4'), :].index)\\n####################################\\n\""
      ]
     },
     "execution_count": 2,
     "metadata": {},
     "output_type": "execute_result"
    }
   ],
   "source": [
    "'''\n",
    "###### READ IN CSVs ##############\n",
    "df = (tmp := pd.read_csv('../in/highlightsNew.csv',\n",
    "                         usecols=['Text',\n",
    "                                  'Tag',\n",
    "                                  'Tag - Group',\n",
    "                                  'Note - Role',\n",
    "                                  'Note - Industry',\n",
    "                                  'Note - Participant ID'])\n",
    "     ).drop(tmp.loc[tmp['Note - Participant ID'].str.contains('MKT'), :].index).rename({'Text': 'Evidence',\n",
    "                                                                            'Tag - Group': 'Group',\n",
    "                                                                            'Note - Role': 'Role',\n",
    "                                                                            'Note - Industry': 'Industry',\n",
    "                                                                            'Note - Participant ID': 'Participant'}, axis=1).dropna()\n",
    "\n",
    "orgdf = (tmp := pd.read_csv('../in/orgSize.csv')).drop(tmp.loc[tmp['Participant ID'].str.contains('P4'), :].index)\n",
    "####################################\n",
    "'''"
   ]
  },
  {
   "cell_type": "markdown",
   "id": "7dce00f7",
   "metadata": {
    "slideshow": {
     "slide_type": "slide"
    }
   },
   "source": [
    "<p style=\"font-size: 1.25em;\">Likewise, ...</p>"
   ]
  },
  {
   "cell_type": "code",
   "execution_count": 3,
   "id": "36132e7f",
   "metadata": {
    "slideshow": {
     "slide_type": "slide"
    }
   },
   "outputs": [
    {
     "data": {
      "text/plain": [
       "\"\\nBE = BE.astype('category')\\n\\nplt.figure(figsize=(12, 12))\\n# sns.heatmap(data=(tmp := pd.concat([BE, DO])).groupby('Tag').Participant.value_counts().unstack(),\\n#             cmap='BuPu',\\n#             linewidths=0.05,\\n#             linecolor='lightgray',\\n#             square=True,\\n#             annot=True,\\n#             annot_kws={'fontsize': 12},\\n#             cbar_kws={'orientation': 'vertical',\\n#                       'shrink': 0.4,\\n#                       'aspect': 30,\\n#                       'fraction': 0.060,\\n#                       'pad': 0.07}\\n#            )\\nsns.heatmap(data=(tmp := BE.groupby('Tag').Participant.value_counts()).unstack(),\\n            cmap='BuPu',\\n            linewidths=0.05,\\n            linecolor='lightgray',\\n            square=True,\\n            annot=True,\\n            annot_kws={'fontsize': 12},\\n            cbar_kws={'orientation': 'vertical',\\n                      'shrink': 0.8,\\n                      'aspect': 30,\\n                      'fraction': 0.060,\\n                      'pad': 0.07,\\n                      'ticks': np.arange(np.array(tmp).max() + 1)}\\n           )\\nplt.xticks(fontsize=13, )\\nplt.yticks(ticks=np.arange(BE.Tag.cat.categories.size) + 0.5,\\n           labels=[f'{c[11:30]}...' for c in BE.Tag.cat.categories],\\n           fontsize=13)\\nplt.xlabel('')\\nplt.ylabel('')\\n\\ndel tmp\\nplt.show();\\n\""
      ]
     },
     "execution_count": 3,
     "metadata": {},
     "output_type": "execute_result"
    }
   ],
   "source": [
    "'''\n",
    "BE = BE.astype('category')\n",
    "\n",
    "plt.figure(figsize=(12, 12))\n",
    "# sns.heatmap(data=(tmp := pd.concat([BE, DO])).groupby('Tag').Participant.value_counts().unstack(),\n",
    "#             cmap='BuPu',\n",
    "#             linewidths=0.05,\n",
    "#             linecolor='lightgray',\n",
    "#             square=True,\n",
    "#             annot=True,\n",
    "#             annot_kws={'fontsize': 12},\n",
    "#             cbar_kws={'orientation': 'vertical',\n",
    "#                       'shrink': 0.4,\n",
    "#                       'aspect': 30,\n",
    "#                       'fraction': 0.060,\n",
    "#                       'pad': 0.07}\n",
    "#            )\n",
    "sns.heatmap(data=(tmp := BE.groupby('Tag').Participant.value_counts()).unstack(),\n",
    "            cmap='BuPu',\n",
    "            linewidths=0.05,\n",
    "            linecolor='lightgray',\n",
    "            square=True,\n",
    "            annot=True,\n",
    "            annot_kws={'fontsize': 12},\n",
    "            cbar_kws={'orientation': 'vertical',\n",
    "                      'shrink': 0.8,\n",
    "                      'aspect': 30,\n",
    "                      'fraction': 0.060,\n",
    "                      'pad': 0.07,\n",
    "                      'ticks': np.arange(np.array(tmp).max() + 1)}\n",
    "           )\n",
    "plt.xticks(fontsize=13, )\n",
    "plt.yticks(ticks=np.arange(BE.Tag.cat.categories.size) + 0.5,\n",
    "           labels=[f'{c[11:30]}...' for c in BE.Tag.cat.categories],\n",
    "           fontsize=13)\n",
    "plt.xlabel('')\n",
    "plt.ylabel('')\n",
    "\n",
    "del tmp\n",
    "plt.show();\n",
    "'''"
   ]
  }
 ],
 "metadata": {
  "kernelspec": {
   "display_name": "Python 3 (ipykernel)",
   "language": "python",
   "name": "python3"
  },
  "language_info": {
   "codemirror_mode": {
    "name": "ipython",
    "version": 3
   },
   "file_extension": ".py",
   "mimetype": "text/x-python",
   "name": "python",
   "nbconvert_exporter": "python",
   "pygments_lexer": "ipython3",
   "version": "3.10.4"
  }
 },
 "nbformat": 4,
 "nbformat_minor": 5
}
